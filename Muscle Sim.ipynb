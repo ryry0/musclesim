{
 "cells": [
  {
   "cell_type": "code",
   "execution_count": 2,
   "metadata": {
    "collapsed": true
   },
   "outputs": [],
   "source": [
    "using PyPlot"
   ]
  },
  {
   "cell_type": "code",
   "execution_count": 77,
   "metadata": {},
   "outputs": [
    {
     "data": {
      "image/png": "[encoded data removed]",
      "text/plain": [
       "PyPlot.Figure(PyObject <matplotlib.figure.Figure object at 0x7f43ba72ea90>)"
      ]
     },
     "metadata": {},
     "output_type": "display_data"
    },
    {
     "name": "stderr",
     "output_type": "stream",
     "text": [
      "WARNING: replacing module MuscleSim\n"
     ]
    },
    {
     "data": {
      "text/plain": [
       "1-element Array{Any,1}:\n",
       " PyObject <matplotlib.lines.Line2D object at 0x7f43ba851e80>"
      ]
     },
     "execution_count": 77,
     "metadata": {},
     "output_type": "execute_result"
    }
   ],
   "source": [
    "include(\"Musclesim.jl\")\n",
    "\n",
    "F0 = 1\n",
    "V_max = 10\n",
    "\n",
    "start = 0\n",
    "fin = 1.5\n",
    "dt = 0.001\n",
    "time = start:dt:fin\n",
    "\n",
    "#parameters\n",
    "a = zeros(length(time))\n",
    "excitation = map(ms.excite, time)\n",
    "\n",
    "#=\n",
    "for i in 1:length(time) - 1\n",
    "    a[i+1] = ms.RK4(a[i], ms.adot, time[i], dt)\n",
    "end\n",
    "=#\n",
    "b = foldl((acc, t) -> vcat(acc, ms.RK4(acc[end], ms.adot, t, dt)), time)\n",
    "\n",
    "function calcV_m(F_0, V_max, F_m, a, norm_L_m)\n",
    "    y = F_m/(F_0*a*ms.norm_length_tension(norm_L_m))\n",
    "    return V_max*norm_inv_fv(y)\n",
    "end\n",
    "\n",
    "plot(time, b[1:length(time)])\n",
    "plot(time, excitation)\n"
   ]
  },
  {
   "cell_type": "code",
   "execution_count": 65,
   "metadata": {},
   "outputs": [
    {
     "data": {
      "text/plain": [
       "1×1502 Array{Float64,2}:\n",
       " 0.0  0.0  0.0  0.0  0.0  0.0  0.0  …  0.00568098  0.00562445  0.00556849"
      ]
     },
     "execution_count": 65,
     "metadata": {},
     "output_type": "execute_result"
    }
   ],
   "source": [
    "a"
   ]
  },
  {
   "cell_type": "markdown",
   "metadata": {},
   "source": [
    "$$\n",
    "\\begin{aligned}\n",
    "F_m &= F_t                         \\\\\n",
    "\\dot{F}_m &= \\dot{F}_t             \\\\\n",
    "F_t &= K_t(L_t - L_{st})           \\\\\n",
    "F_m &= A\\cdot FV(V_m)\\cdot LT(L_m) \\\\\n",
    "L_T &= L_{mt} - L_m                \\\\\n",
    "\\tilde{F}_m &= \\frac{F_m}{F_0}     \\\\\n",
    "\\tilde{L}_m &= \\frac{L_m}{L_0}     \\\\\n",
    "\\tilde{V}_m &= \\frac{V_m}{V_{max}} \\\\\n",
    "\\dot{a}(t) &= \\frac{u(t)-a(t)}{\\tau} \\\\\n",
    "\\dot{a}(t) &= \\frac{u(t) - (\\beta + (1 - \\beta) u(t)) a(t)}{\\tau} \\\\\n",
    "\\varepsilon &= \\frac{L_t - L_{st}}{L_{st}} \\\\\n",
    "LT\\left(\\frac{L}{L_0}\\right) &= -3.0508\\cdot \\left(\\frac{L}{L_0}\\right)^2 + 5.9758\\cdot \\left(\\frac{L}{L_0}\\right) - 1.9597, 0.42 \\le \\frac{L}{L_0}\\le1.54 \\\\\n",
    "K_t &= \\frac{F_0}{\\varepsilon_{max}L_{st}} \\\\\n",
    "\\tilde{V}_m &= 0.995242\\cdot e^{13.8817(F\\tilde{V}-1.39214)} - 0.996815\\cdot e^{-3.91442 F\\tilde{V}}\n",
    "\\end{aligned}\n",
    "$$\n",
    "\n",
    "$L_{st}$ is the length of the slack tendon.\n",
    "$a$ is muscle activation\n",
    "$u$ is neural excitation\n",
    "$\\tau$ is time constant\n",
    "$\\varepsilon$ is tendon strain."
   ]
  },
  {
   "cell_type": "code",
   "execution_count": 44,
   "metadata": {},
   "outputs": [
    {
     "name": "stdout",
     "output_type": "stream",
     "text": [
      "search: \u001b[1mf\u001b[22m\u001b[1mo\u001b[22m\u001b[1ml\u001b[22m\u001b[1md\u001b[22m\u001b[1ml\u001b[22m map\u001b[1mf\u001b[22m\u001b[1mo\u001b[22m\u001b[1ml\u001b[22m\u001b[1md\u001b[22m\u001b[1ml\u001b[22m \u001b[1mf\u001b[22m\u001b[1mo\u001b[22m\u001b[1ml\u001b[22m\u001b[1md\u001b[22mr map\u001b[1mf\u001b[22m\u001b[1mo\u001b[22m\u001b[1ml\u001b[22m\u001b[1md\u001b[22mr\n",
      "\n"
     ]
    },
    {
     "data": {
      "text/markdown": [
       "```\n",
       "foldl(op, v0, itr)\n",
       "```\n",
       "\n",
       "Like [`reduce`](@ref), but with guaranteed left associativity. `v0` will be used exactly once.\n",
       "\n",
       "```jldoctest\n",
       "julia> foldl(-, 1, 2:5)\n",
       "-13\n",
       "```\n",
       "\n",
       "```\n",
       "foldl(op, itr)\n",
       "```\n",
       "\n",
       "Like `foldl(op, v0, itr)`, but using the first element of `itr` as `v0`. In general, this cannot be used with empty collections (see `reduce(op, itr)`).\n",
       "\n",
       "```jldoctest\n",
       "julia> foldl(-, 2:5)\n",
       "-10\n",
       "```\n"
      ],
      "text/plain": [
       "```\n",
       "foldl(op, v0, itr)\n",
       "```\n",
       "\n",
       "Like [`reduce`](@ref), but with guaranteed left associativity. `v0` will be used exactly once.\n",
       "\n",
       "```jldoctest\n",
       "julia> foldl(-, 1, 2:5)\n",
       "-13\n",
       "```\n",
       "\n",
       "```\n",
       "foldl(op, itr)\n",
       "```\n",
       "\n",
       "Like `foldl(op, v0, itr)`, but using the first element of `itr` as `v0`. In general, this cannot be used with empty collections (see `reduce(op, itr)`).\n",
       "\n",
       "```jldoctest\n",
       "julia> foldl(-, 2:5)\n",
       "-10\n",
       "```\n"
      ]
     },
     "execution_count": 44,
     "metadata": {},
     "output_type": "execute_result"
    }
   ],
   "source": [
    "?foldl"
   ]
  },
  {
   "cell_type": "code",
   "execution_count": null,
   "metadata": {
    "collapsed": true
   },
   "outputs": [],
   "source": []
  }
 ],
 "metadata": {
  "kernelspec": {
   "display_name": "Julia 0.5.1",
   "language": "julia",
   "name": "julia-0.5"
  },
  "language_info": {
   "file_extension": ".jl",
   "mimetype": "application/julia",
   "name": "julia",
   "version": "0.6.0"
  }
 },
 "nbformat": 4,
 "nbformat_minor": 2
}

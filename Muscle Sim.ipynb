{
 "cells": [
  {
   "cell_type": "code",
   "execution_count": 2,
   "metadata": {
    "collapsed": true
   },
   "outputs": [],
   "source": [
    "using PyPlot"
   ]
  },
  {
   "cell_type": "code",
   "execution_count": 71,
   "metadata": {},
   "outputs": [
    {
     "data": {
      "image/png": "[encoded data removed]",
      "text/plain": [
       "PyPlot.Figure(PyObject <matplotlib.figure.Figure object at 0x7f71c50fc310>)"
      ]
     },
     "metadata": {},
     "output_type": "display_data"
    },
    {
     "name": "stderr",
     "output_type": "stream",
     "text": [
      "WARNING: Method definition RK4(Float64, Any, Float64, Float64) in module Main at In[70]:2 overwritten at In[71]:2.\n",
      "WARNING: Method definition Int4(Array{Float64, 1}, Any, Any, Any) in module Main at In[70]:11 overwritten at In[71]:11.\n",
      "WARNING: Method definition audot(Any, Any, Any) in module Main at In[70]:22 overwritten at In[71]:22.\n",
      "WARNING: Method definition excite(Float64) in module Main at In[70]:29 overwritten at In[71]:29.\n",
      "WARNING: Method definition norm_length_tension(Any) in module Main at In[70]:45 overwritten at In[71]:45.\n"
     ]
    },
    {
     "data": {
      "text/plain": [
       "1-element Array{Any,1}:\n",
       " PyObject <matplotlib.lines.Line2D object at 0x7f71c506f310>"
      ]
     },
     "execution_count": 71,
     "metadata": {},
     "output_type": "execute_result"
    }
   ],
   "source": [
    "function RK4(u::Float64, du, t::Float64, dt::Float64)\n",
    "    k1 = du(t, u)\n",
    "    k2 = du(t + dt/2, u + dt/2*k1)\n",
    "    k3 = du(t + dt/2, u + dt/2*k2)\n",
    "    k4 = du(t + dt, u + dt*k3)\n",
    "    dU = k1 + 2*k2 + 2*k2 + k4\n",
    "    return U = u + dU*dt/6.0\n",
    "end\n",
    "\n",
    "function Int4(u::Vector{Float64}, du, t, dt)\n",
    "    A = 18.0/11.0\n",
    "    B = -9.0/11.0\n",
    "    C = 2.0/11.0\n",
    "    D = 6.0/11.0\n",
    "    \n",
    "    print(length(u))\n",
    "    # U = A*u[n-1] + B*[n-2] + C*[n-3] + D*du*dt\n",
    "    return U = A*u[3] + B*u[2] + C*u[1] + D*du(t, u[4])*dt\n",
    "end\n",
    "\n",
    "function audot(t, u, a)\n",
    "    beta = 0.2\n",
    "    tau = 0.02\n",
    "    numerator = u(t) - (beta + (1 - beta) * u(t))*a\n",
    "    return numerator/tau\n",
    "end\n",
    "\n",
    "function excite(t::Float64)\n",
    "    T0 = 0.5\n",
    "    T1 = 1\n",
    "    LVL = 0.5\n",
    "    ret = 0\n",
    "    if t > T1\n",
    "        return 0\n",
    "    end\n",
    "    if t > T0\n",
    "        return LVL\n",
    "    end\n",
    "    return 0\n",
    "end\n",
    "\n",
    "adot = (t, a) -> audot(t, excite, a)\n",
    "\n",
    "function norm_length_tension(norm_length)\n",
    "    A = -3.0508;\n",
    "    B = 5.9758;\n",
    "    C = -1.9597;\n",
    "    return A.*(norm_length).^2 + B*norm_length + C;\n",
    "end\n",
    "\n",
    "start = 0.0\n",
    "fin = 1.5\n",
    "dt = 0.001\n",
    "time = start:dt:fin\n",
    "excitation = zeros(length(time))\n",
    "a = zeros(length(time)+1)\n",
    "\n",
    "for i in 1:length(time)\n",
    "    excitation[i] = excite(time[i])\n",
    "    a[i+1] = RK4(a[i], adot, time[i], dt)\n",
    "end\n",
    "\n",
    "plot(time, a[1:length(time)])\n",
    "plot(time, excitation)\n"
   ]
  },
  {
   "cell_type": "code",
   "execution_count": 24,
   "metadata": {},
   "outputs": [
    {
     "name": "stdout",
     "output_type": "stream",
     "text": [
      "search: \u001b[1mr\u001b[22m\u001b[1me\u001b[22m\u001b[1md\u001b[22m\u001b[1mu\u001b[22m\u001b[1mc\u001b[22m\u001b[1me\u001b[22m \u001b[1mr\u001b[22m\u001b[1me\u001b[22m\u001b[1md\u001b[22m\u001b[1mu\u001b[22m\u001b[1mc\u001b[22m\u001b[1me\u001b[22mdim map\u001b[1mr\u001b[22m\u001b[1me\u001b[22m\u001b[1md\u001b[22m\u001b[1mu\u001b[22m\u001b[1mc\u001b[22m\u001b[1me\u001b[22m map\u001b[1mr\u001b[22m\u001b[1me\u001b[22m\u001b[1md\u001b[22m\u001b[1mu\u001b[22m\u001b[1mc\u001b[22m\u001b[1me\u001b[22mdim\n",
      "\n"
     ]
    },
    {
     "data": {
      "text/markdown": [
       "```\n",
       "reduce(op, v0, itr)\n",
       "```\n",
       "\n",
       "Reduce the given collection `ìtr` with the given binary operator `op`. `v0` must be a neutral element for `op` that will be returned for empty collections. It is unspecified whether `v0` is used for non-empty collections.\n",
       "\n",
       "Reductions for certain commonly-used operators have special implementations which should be used instead: `maximum(itr)`, `minimum(itr)`, `sum(itr)`, `prod(itr)`, `any(itr)`, `all(itr)`.\n",
       "\n",
       "The associativity of the reduction is implementation dependent. This means that you can't use non-associative operations like `-` because it is undefined whether `reduce(-,[1,2,3])` should be evaluated as `(1-2)-3` or `1-(2-3)`. Use `foldl` or `foldr` instead for guaranteed left or right associativity.\n",
       "\n",
       "Some operations accumulate error, and parallelism will also be easier if the reduction can be executed in groups. Future versions of Julia might change the algorithm. Note that the elements are not reordered if you use an ordered collection.\n",
       "\n",
       "```\n",
       "reduce(op, itr)\n",
       "```\n",
       "\n",
       "Like `reduce(op, v0, itr)`. This cannot be used with empty collections, except for some special cases (e.g. when `op` is one of `+`, `*`, `max`, `min`, `&`, `|`) when Julia can determine the neutral element of `op`.\n"
      ],
      "text/plain": [
       "```\n",
       "reduce(op, v0, itr)\n",
       "```\n",
       "\n",
       "Reduce the given collection `ìtr` with the given binary operator `op`. `v0` must be a neutral element for `op` that will be returned for empty collections. It is unspecified whether `v0` is used for non-empty collections.\n",
       "\n",
       "Reductions for certain commonly-used operators have special implementations which should be used instead: `maximum(itr)`, `minimum(itr)`, `sum(itr)`, `prod(itr)`, `any(itr)`, `all(itr)`.\n",
       "\n",
       "The associativity of the reduction is implementation dependent. This means that you can't use non-associative operations like `-` because it is undefined whether `reduce(-,[1,2,3])` should be evaluated as `(1-2)-3` or `1-(2-3)`. Use `foldl` or `foldr` instead for guaranteed left or right associativity.\n",
       "\n",
       "Some operations accumulate error, and parallelism will also be easier if the reduction can be executed in groups. Future versions of Julia might change the algorithm. Note that the elements are not reordered if you use an ordered collection.\n",
       "\n",
       "```\n",
       "reduce(op, itr)\n",
       "```\n",
       "\n",
       "Like `reduce(op, v0, itr)`. This cannot be used with empty collections, except for some special cases (e.g. when `op` is one of `+`, `*`, `max`, `min`, `&`, `|`) when Julia can determine the neutral element of `op`.\n"
      ]
     },
     "execution_count": 24,
     "metadata": {},
     "output_type": "execute_result"
    }
   ],
   "source": [
    "?reduce"
   ]
  },
  {
   "cell_type": "markdown",
   "metadata": {},
   "source": [
    "$$\n",
    "\\begin{aligned}\n",
    "F_m &= F_t                         \\\\\n",
    "\\dot{F}_m &= \\dot{F}_t             \\\\\n",
    "F_t &= K_t(L_t - L_{st})           \\\\\n",
    "F_m &= A\\cdot FV(V_m)\\cdot LT(L_m) \\\\\n",
    "L_T &= L_{mt} - L_m                \\\\\n",
    "\\tilde{F}_m &= \\frac{F_m}{F_0}     \\\\\n",
    "\\tilde{L}_m &= \\frac{L_m}{L_0}     \\\\\n",
    "\\tilde{V}_m &= \\frac{V_m}{V_{max}} \\\\\n",
    "\\dot{a}(t) &= \\frac{u(t)-a(t)}{\\tau} \\\\\n",
    "\\dot{a}(t) &= \\frac{u(t) - (\\beta + (1 - \\beta) u(t)) a(t)}{\\tau} \\\\\n",
    "\\varepsilon &= \\frac{L_t - L_{st}}{L_{st}} \\\\\n",
    "K_t &= \\frac{F_0}{\\varepsilon_{max}L_{st}}\n",
    "\\end{aligned}\n",
    "$$\n",
    "\n",
    "$L_{st}$ is the length of the slack tendon.\n",
    "$a$ is muscle activation\n",
    "$u$ is neural excitation\n",
    "$\\tau$ is time constant\n",
    "$\\varepsilon$ is tendon strain."
   ]
  },
  {
   "cell_type": "code",
   "execution_count": 9,
   "metadata": {},
   "outputs": [
    {
     "name": "stdout",
     "output_type": "stream",
     "text": [
      "search: \u001b[1mi\u001b[22m\u001b[1mf\u001b[22m \u001b[1mi\u001b[22m\u001b[1mf\u001b[22mft \u001b[1mi\u001b[22m\u001b[1mf\u001b[22mft! \u001b[1mi\u001b[22m\u001b[1mf\u001b[22melse \u001b[1mi\u001b[22m\u001b[1mf\u001b[22mftshift d\u001b[1mi\u001b[22m\u001b[1mf\u001b[22mf sh\u001b[1mi\u001b[22m\u001b[1mf\u001b[22mt! Un\u001b[1mi\u001b[22m\u001b[1mf\u001b[22mormScaling not\u001b[1mi\u001b[22m\u001b[1mf\u001b[22my else\u001b[1mi\u001b[22m\u001b[1mf\u001b[22m\n",
      "\n"
     ]
    },
    {
     "data": {
      "text/markdown": [
       "`if`-`elseif`-`else` performs conditional evaluation, which allows portions of code to be evaluated or not evaluated depending on the value of a boolean expression. Here is the anatomy of the `if`-`elseif`-`else` conditional syntax:\n",
       "\n",
       "```\n",
       "if x < y\n",
       "    println(\"x is less than y\")\n",
       "elseif x > y\n",
       "    println(\"x is greater than y\")\n",
       "else\n",
       "    println(\"x is equal to y\")\n",
       "end\n",
       "```\n",
       "\n",
       "If the condition expression `x < y` is true, then the corresponding block is evaluated; otherwise the condition expression `x > y` is evaluated, and if it is true, the corresponding block is evaluated; if neither expression is true, the `else` block is evaluated. The `elseif` and `else` blocks are optional, and as many `elseif` blocks as desired can be used.\n"
      ],
      "text/plain": [
       "`if`-`elseif`-`else` performs conditional evaluation, which allows portions of code to be evaluated or not evaluated depending on the value of a boolean expression. Here is the anatomy of the `if`-`elseif`-`else` conditional syntax:\n",
       "\n",
       "```\n",
       "if x < y\n",
       "    println(\"x is less than y\")\n",
       "elseif x > y\n",
       "    println(\"x is greater than y\")\n",
       "else\n",
       "    println(\"x is equal to y\")\n",
       "end\n",
       "```\n",
       "\n",
       "If the condition expression `x < y` is true, then the corresponding block is evaluated; otherwise the condition expression `x > y` is evaluated, and if it is true, the corresponding block is evaluated; if neither expression is true, the `else` block is evaluated. The `elseif` and `else` blocks are optional, and as many `elseif` blocks as desired can be used.\n"
      ]
     },
     "execution_count": 9,
     "metadata": {},
     "output_type": "execute_result"
    }
   ],
   "source": [
    "?if"
   ]
  },
  {
   "cell_type": "code",
   "execution_count": null,
   "metadata": {
    "collapsed": true
   },
   "outputs": [],
   "source": []
  }
 ],
 "metadata": {
  "kernelspec": {
   "display_name": "Julia 0.5.1",
   "language": "julia",
   "name": "julia-0.5"
  },
  "language_info": {
   "file_extension": ".jl",
   "mimetype": "application/julia",
   "name": "julia",
   "version": "0.5.2"
  }
 },
 "nbformat": 4,
 "nbformat_minor": 2
}

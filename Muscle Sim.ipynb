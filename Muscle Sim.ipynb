{
 "cells": [
  {
   "cell_type": "code",
   "execution_count": 8,
   "metadata": {
    "collapsed": true
   },
   "outputs": [],
   "source": [
    "using PyPlot"
   ]
  },
  {
   "cell_type": "code",
   "execution_count": 31,
   "metadata": {
    "scrolled": true
   },
   "outputs": [
    {
     "name": "stderr",
     "output_type": "stream",
     "text": [
      "WARNING: replacing module MuscleSim\n",
      "WARNING: replacing module Jules\n"
     ]
    },
    {
     "ename": "LoadError",
     "evalue": "\u001b[91mtype HillMuscleModel has no field time\u001b[39m",
     "output_type": "error",
     "traceback": [
      "\u001b[91mtype HillMuscleModel has no field time\u001b[39m",
      ""
     ]
    }
   ],
   "source": [
    "#parameters\n",
    "centis = 10.0^-2\n",
    "TAU = 0.05 \n",
    "BETA = 1\n",
    "L0 = 8*centis # length of muscle\n",
    "F0 = 30\n",
    "V_MAX = 5*L0\n",
    "L_ST = 4*L0 # length of slack tendon\n",
    "MAX_STRAIN = 0.0325\n",
    "K_SP = 20/centis\n",
    "K_T = F0/(MAX_STRAIN*L_ST)\n",
    "L_MT = 39.5*centis\n",
    "V_MT = 0\n",
    "L_LOAD = 5*centis\n",
    "L_TOT = 44.5*centis\n",
    "\n",
    "include(\"Musclesim.jl\")\n",
    "include(\"jules/jules.jl\")\n",
    "ms = MuscleSim\n",
    "js = Jules\n",
    "\n",
    "start = 0\n",
    "fin = 10\n",
    "dt = 0.001\n",
    "time = collect(start:dt:fin)\n",
    "\n",
    "ramp = t -> t/fin + 0.01;\n",
    "\n",
    "(model, external_model) = ms.CreateModel(\n",
    "    start_time = start,\n",
    "    end_time = fin,\n",
    "    dt = dt,\n",
    "    tau = TAU,\n",
    "    beta = BETA,\n",
    "    V_max = V_MAX,\n",
    "    F_max = F0,\n",
    "    L_optimal = L0,\n",
    "    K_t = K_T,\n",
    "    K_sp = K_SP,\n",
    "    L_st = L_ST,\n",
    "    L_total = L_TOT,\n",
    "    L_load = L_LOAD,\n",
    "    excitation_func=ms.excite)\n",
    "\n",
    "output = ms.simulateExternal(model, external_model)\n",
    "#plot(model.time, model.excitation)\n",
    "#plot(model.time, model.activation)\n",
    "plot(model.time, model.F_m)\n",
    "\n",
    "#Kplot(model.time, model.activation)\n",
    "#plot(time, b[1:length(time)])\n",
    "\n"
   ]
  },
  {
   "cell_type": "code",
   "execution_count": 12,
   "metadata": {
    "scrolled": false
   },
   "outputs": [
    {
     "data": {
      "image/png": "[encoded data removed]",
      "text/plain": [
       "PyPlot.Figure(PyObject <matplotlib.figure.Figure object at 0x7f7a7f6849b0>)"
      ]
     },
     "metadata": {},
     "output_type": "display_data"
    },
    {
     "data": {
      "text/plain": [
       "1-element Array{PyCall.PyObject,1}:\n",
       " PyObject <matplotlib.lines.Line2D object at 0x7f7a7f248278>"
      ]
     },
     "execution_count": 12,
     "metadata": {},
     "output_type": "execute_result"
    }
   ],
   "source": [
    "#plot(model.time, model.K_t)\n",
    "#cap the activation integration\n",
    "#add slack length of the load\n",
    "#integrate until F_m settles for initial value\n",
    "#let integrations go for a little while to allow errors to settle\n",
    "#calculate a(t) every iteration\n",
    "\n",
    "array = collect(-0:0.01:2)\n",
    "out = map(ms.norm_length_tension, array)\n",
    "plot(array,  out)\n",
    "\n",
    "#js.interp(out, array, 0.0)\n",
    "#plot(array,out)\n"
   ]
  },
  {
   "cell_type": "markdown",
   "metadata": {},
   "source": [
    "$$\n",
    "\\begin{aligned}\n",
    "F_m &= F_t                         \\\\\n",
    "\\dot{F}_m &= \\dot{F}_t             \\\\\n",
    "F_t &= K_t(L_t - L_{st})           \\\\\n",
    "F_m &= A\\cdot FV(V_m)\\cdot LT(L_m) \\\\\n",
    "L_T &= L_{mt} - L_m                \\\\\n",
    "\\tilde{F}_m &= \\frac{F_m}{F_0}     \\\\\n",
    "\\tilde{L}_m &= \\frac{L_m}{L_0}     \\\\\n",
    "\\tilde{V}_m &= \\frac{V_m}{V_{max}} \\\\\n",
    "\\dot{a}(t) &= \\frac{u(t)-a(t)}{\\tau} \\\\\n",
    "\\dot{a}(t) &= \\frac{u(t) - (\\beta + (1 - \\beta) u(t)) a(t)}{\\tau} \\\\\n",
    "\\varepsilon &= \\frac{L_t - L_{st}}{L_{st}} \\\\\n",
    "LT\\left(\\frac{L}{L_0}\\right) &= -3.0508\\cdot \\left(\\frac{L}{L_0}\\right)^2 + 5.9758\\cdot \\left(\\frac{L}{L_0}\\right) - 1.9597, 0.42 \\le \\frac{L}{L_0}\\le1.54 \\\\\n",
    "K_t &= \\frac{F_0}{\\varepsilon_{max}L_{st}} \\\\\n",
    "\\tilde{V}_m &= 0.995242\\cdot e^{13.8817(F\\tilde{V}-1.39214)} - 0.996815\\cdot e^{-3.91442 F\\tilde{V}} \\\\\n",
    "\\dot{F}_t &= K_t (V_{mt} - V_m) \\\\\n",
    "V_m &= V_{max} \\cdot FV^{-1} \\left(\\frac{F_m}{F_0 \\cdot a \\cdot LT(\\tilde{L}_m)}\\right)\n",
    "\\end{aligned}\n",
    "$$\n",
    "\n",
    "$L_{st}$ is the length of the slack tendon.\n",
    "$a$ is muscle activation\n",
    "$u$ is neural excitation\n",
    "$\\tau$ is time constant\n",
    "$\\varepsilon$ is tendon strain."
   ]
  },
  {
   "cell_type": "code",
   "execution_count": 4,
   "metadata": {},
   "outputs": [
    {
     "data": {
      "text/plain": [
       "38"
      ]
     },
     "execution_count": 4,
     "metadata": {},
     "output_type": "execute_result"
    }
   ],
   "source": [
    "r = collect(5:3:38)\n",
    "r[length(r)]"
   ]
  },
  {
   "cell_type": "code",
   "execution_count": 5,
   "metadata": {},
   "outputs": [
    {
     "data": {
      "text/plain": [
       "3393-element Array{Tuple{Float64,Float64},1}:\n",
       " (-2.0, -0.9968)  \n",
       " (-1.999, -0.9968)\n",
       " (-1.998, -0.9968)\n",
       " (-1.997, -0.9968)\n",
       " (-1.996, -0.9968)\n",
       " (-1.995, -0.9968)\n",
       " (-1.994, -0.9968)\n",
       " (-1.993, -0.9968)\n",
       " (-1.992, -0.9968)\n",
       " (-1.991, -0.9968)\n",
       " (-1.99, -0.9968) \n",
       " (-1.989, -0.9968)\n",
       " (-1.988, -0.9968)\n",
       " ⋮                \n",
       " (1.381, 0.848169)\n",
       " (1.382, 0.860106)\n",
       " (1.383, 0.872208)\n",
       " (1.384, 0.88448) \n",
       " (1.385, 0.896923)\n",
       " (1.386, 0.909539)\n",
       " (1.387, 0.922332)\n",
       " (1.388, 0.935303)\n",
       " (1.389, 0.948455)\n",
       " (1.39, 0.96179)  \n",
       " (1.391, 0.975312)\n",
       " (1.392, 0.989022)"
      ]
     },
     "execution_count": 5,
     "metadata": {},
     "output_type": "execute_result"
    }
   ],
   "source": [
    "temp = collect(-2:0.001:1.5)\n",
    "\n",
    "temp = map(x -> (x, ms.norm_inv_fv(x)), temp)\n",
    "\n",
    "temp = filter(x -> x[2] < 1, temp)"
   ]
  },
  {
   "cell_type": "code",
   "execution_count": 15,
   "metadata": {},
   "outputs": [
    {
     "name": "stdout",
     "output_type": "stream",
     "text": [
      "search:\n",
      "\n",
      "Couldn't find \u001b[36mconstrain\n",
      "\u001b[39mPerhaps you meant contains or const\n"
     ]
    },
    {
     "data": {
      "text/markdown": [
       "No documentation found.\n",
       "\n",
       "Binding `constrain` does not exist.\n"
      ],
      "text/plain": [
       "No documentation found.\n",
       "\n",
       "Binding `constrain` does not exist.\n"
      ]
     },
     "execution_count": 15,
     "metadata": {},
     "output_type": "execute_result"
    }
   ],
   "source": [
    "?constrain\n"
   ]
  },
  {
   "cell_type": "code",
   "execution_count": null,
   "metadata": {
    "collapsed": true
   },
   "outputs": [],
   "source": []
  }
 ],
 "metadata": {
  "kernelspec": {
   "display_name": "Julia 0.6.0",
   "language": "julia",
   "name": "julia-0.6"
  },
  "language_info": {
   "file_extension": ".jl",
   "mimetype": "application/julia",
   "name": "julia",
   "version": "0.6.0"
  }
 },
 "nbformat": 4,
 "nbformat_minor": 2
}

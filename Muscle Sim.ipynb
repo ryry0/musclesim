{
 "cells": [
  {
   "cell_type": "code",
   "execution_count": 1,
   "metadata": {
    "collapsed": true
   },
   "outputs": [],
   "source": [
    "using PyPlot"
   ]
  },
  {
   "cell_type": "code",
   "execution_count": 49,
   "metadata": {
    "scrolled": false
   },
   "outputs": [
    {
     "data": {
      "image/png": "[encoded data removed]",
      "text/plain": [
       "PyPlot.Figure(PyObject <matplotlib.figure.Figure object at 0x7f868308ea90>)"
      ]
     },
     "metadata": {},
     "output_type": "display_data"
    },
    {
     "name": "stderr",
     "output_type": "stream",
     "text": [
      "WARNING: replacing module MuscleSim\n"
     ]
    },
    {
     "data": {
      "text/plain": [
       "1-element Array{Any,1}:\n",
       " PyObject <matplotlib.lines.Line2D object at 0x7f8682fe1fd0>"
      ]
     },
     "execution_count": 49,
     "metadata": {},
     "output_type": "execute_result"
    }
   ],
   "source": [
    "#parameters\n",
    "centis = 10.0^-2\n",
    "TAU = 0.05 \n",
    "BETA = 1\n",
    "L0 = 8*centis # length of muscle\n",
    "F0 = 30\n",
    "V_MAX = 5*L0\n",
    "L_ST = 4*L0 # length of slack tendon\n",
    "K_T = 20\n",
    "L_MT = 39.5*centis\n",
    "\n",
    "V_MT = 0\n",
    "\n",
    "include(\"Musclesim.jl\")\n",
    "\n",
    "start = 0\n",
    "fin = 10\n",
    "dt = 0.001\n",
    "time = collect(start:dt:fin)\n",
    "length_mt = L_MT*ones(length(time)).*linspace(1, 0.5, length(time))\n",
    "velocity_mt = V_MT*ones(length(time))\n",
    "\n",
    "model = ms.CreateModel(\n",
    "    dt = 0.001,\n",
    "    tau = TAU,\n",
    "    beta = BETA,\n",
    "    V_max = V_MAX,\n",
    "    F_max = F0,\n",
    "    L_max = L0,\n",
    "    K_t = K_T,\n",
    "    L_st = L_ST,\n",
    "    L_mt = length_mt,\n",
    "    V_mt = velocity_mt,\n",
    "    time = time,\n",
    "    excitation_func=ms.excite)\n",
    "\n",
    "ms.simulate(model)\n",
    "out = map(t-> ms.interp_activation(model, t), model.time.+0.0007)\n",
    "plot(model.time, out)\n",
    "plot(model.time, model.F_m)\n",
    "\n",
    "#Kplot(model.time, model.activation)\n",
    "#plot(time, b[1:length(time)])\n"
   ]
  },
  {
   "cell_type": "code",
   "execution_count": 47,
   "metadata": {},
   "outputs": [
    {
     "name": "stdout",
     "output_type": "stream",
     "text": [
      "search: \u001b[1ml\u001b[22m\u001b[1mi\u001b[22m\u001b[1mn\u001b[22m\u001b[1ms\u001b[22m\u001b[1mp\u001b[22m\u001b[1ma\u001b[22m\u001b[1mc\u001b[22m\u001b[1me\u001b[22m \u001b[1mL\u001b[22m\u001b[1mi\u001b[22m\u001b[1mn\u001b[22m\u001b[1mS\u001b[22m\u001b[1mp\u001b[22m\u001b[1ma\u001b[22m\u001b[1mc\u001b[22m\u001b[1me\u001b[22m\n",
      "\n"
     ]
    },
    {
     "data": {
      "text/markdown": [
       "```\n",
       "linspace(start, stop, n=50)\n",
       "```\n",
       "\n",
       "Construct a range of `n` linearly spaced elements from `start` to `stop`.\n",
       "\n",
       "```jldoctest\n",
       "julia> linspace(1.3,2.9,9)\n",
       "1.3:0.2:2.9\n",
       "```\n",
       "\n",
       "```\n",
       "linspace(c1::Color, c2::Color, n=100)\n",
       "```\n",
       "\n",
       "Generates `n`>2 colors in a linearly interpolated ramp from `c1` to`c2`, inclusive, returning an `Array` of colors.\n"
      ],
      "text/plain": [
       "```\n",
       "linspace(start, stop, n=50)\n",
       "```\n",
       "\n",
       "Construct a range of `n` linearly spaced elements from `start` to `stop`.\n",
       "\n",
       "```jldoctest\n",
       "julia> linspace(1.3,2.9,9)\n",
       "1.3:0.2:2.9\n",
       "```\n",
       "\n",
       "```\n",
       "linspace(c1::Color, c2::Color, n=100)\n",
       "```\n",
       "\n",
       "Generates `n`>2 colors in a linearly interpolated ramp from `c1` to`c2`, inclusive, returning an `Array` of colors.\n"
      ]
     },
     "execution_count": 47,
     "metadata": {},
     "output_type": "execute_result"
    }
   ],
   "source": [
    "?linspace "
   ]
  },
  {
   "cell_type": "markdown",
   "metadata": {},
   "source": [
    "$$\n",
    "\\begin{aligned}\n",
    "F_m &= F_t                         \\\\\n",
    "\\dot{F}_m &= \\dot{F}_t             \\\\\n",
    "F_t &= K_t(L_t - L_{st})           \\\\\n",
    "F_m &= A\\cdot FV(V_m)\\cdot LT(L_m) \\\\\n",
    "L_T &= L_{mt} - L_m                \\\\\n",
    "\\tilde{F}_m &= \\frac{F_m}{F_0}     \\\\\n",
    "\\tilde{L}_m &= \\frac{L_m}{L_0}     \\\\\n",
    "\\tilde{V}_m &= \\frac{V_m}{V_{max}} \\\\\n",
    "\\dot{a}(t) &= \\frac{u(t)-a(t)}{\\tau} \\\\\n",
    "\\dot{a}(t) &= \\frac{u(t) - (\\beta + (1 - \\beta) u(t)) a(t)}{\\tau} \\\\\n",
    "\\varepsilon &= \\frac{L_t - L_{st}}{L_{st}} \\\\\n",
    "LT\\left(\\frac{L}{L_0}\\right) &= -3.0508\\cdot \\left(\\frac{L}{L_0}\\right)^2 + 5.9758\\cdot \\left(\\frac{L}{L_0}\\right) - 1.9597, 0.42 \\le \\frac{L}{L_0}\\le1.54 \\\\\n",
    "K_t &= \\frac{F_0}{\\varepsilon_{max}L_{st}} \\\\\n",
    "\\tilde{V}_m &= 0.995242\\cdot e^{13.8817(F\\tilde{V}-1.39214)} - 0.996815\\cdot e^{-3.91442 F\\tilde{V}} \\\\\n",
    "\\dot{F}_t &= K_t (V_{mt} - V_m) \\\\\n",
    "V_m &= V_{max} \\cdot FV^{-1} \\left(\\frac{F_m}{F_0 \\cdot a \\cdot LT(\\tilde{L}_m)}\\right)\n",
    "\\end{aligned}\n",
    "$$\n",
    "\n",
    "$L_{st}$ is the length of the slack tendon.\n",
    "$a$ is muscle activation\n",
    "$u$ is neural excitation\n",
    "$\\tau$ is time constant\n",
    "$\\varepsilon$ is tendon strain."
   ]
  },
  {
   "cell_type": "code",
   "execution_count": 70,
   "metadata": {},
   "outputs": [
    {
     "data": {
      "text/plain": [
       "38"
      ]
     },
     "execution_count": 70,
     "metadata": {},
     "output_type": "execute_result"
    }
   ],
   "source": [
    "r = collect(5:3:38)\n",
    "r[length(r)]"
   ]
  },
  {
   "cell_type": "code",
   "execution_count": 6,
   "metadata": {},
   "outputs": [
    {
     "data": {
      "text/plain": [
       "10-element Array{Float64,1}:\n",
       " 1.0\n",
       " 1.0\n",
       " 1.0\n",
       " 1.0\n",
       " 1.0\n",
       " 1.0\n",
       " 1.0\n",
       " 1.0\n",
       " 1.0\n",
       " 1.0"
      ]
     },
     "execution_count": 6,
     "metadata": {},
     "output_type": "execute_result"
    }
   ],
   "source": [
    "ones(10)"
   ]
  }
 ],
 "metadata": {
  "kernelspec": {
   "display_name": "Julia 0.5.1",
   "language": "julia",
   "name": "julia-0.5"
  },
  "language_info": {
   "file_extension": ".jl",
   "mimetype": "application/julia",
   "name": "julia",
   "version": "0.6.0"
  }
 },
 "nbformat": 4,
 "nbformat_minor": 2
}
